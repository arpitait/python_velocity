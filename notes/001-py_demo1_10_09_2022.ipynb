{
 "cells": [
  {
   "cell_type": "markdown",
   "id": "1010e1fa",
   "metadata": {},
   "source": [
    "### Introduction to Python\n",
    "\n",
    "\t- Why python?  \n",
    "\t\t* Python is a high level and interpreted programming language.\n",
    "\t\t* Python is an easy to learn programming language, easier than many other programming languages.\n",
    "\t\t\n",
    "\t- What is open source?  \n",
    "\t\t * The term open source refers to something people can modify and share because its source code is publicly available and accessible.\n",
    "\t\t\n",
    "\n",
    "### Python and its industry applications\n",
    "\n",
    "\t- Python land-scape in the industry  \n",
    "\t\t* Scripting ( devops, automation, test automation + selenium )\n",
    "\t\t* Web applications (only backend using Django, Flask, FastAPI, cherrypy,...etc)\n",
    "\t\t* Data science (deep learning, natural langugage processing, scientic research, statistical analysis etc.)\n",
    "\t\t* Data engineering (ETL)\n",
    "\t\t* IOT, arduino, Rasberry PI\n",
    "\t\t* Network automation\n",
    "\t\t\n",
    "All these application make Python a \"General purpose\" language.\n",
    "\n",
    "\n",
    "\n",
    "   "
   ]
  },
  {
   "cell_type": "markdown",
   "id": "3a017ed9",
   "metadata": {},
   "source": [
    "### Features of Python programming language\n",
    "\n",
    "    - Easy to code\n",
    "    - Easy to read\n",
    "    - Free and open source \n",
    "    - Robust support of libraries (vast community, ~4 lac libraries)\n",
    "    - Interpreted (code is executed line by line without using compiler explicitly)\n",
    "    - Portable (same code can work on windows, linux and macos)\n",
    "    - Object oriented and procedure oriented (also known as functional programming)\n",
    "    - Extensible (can be intergrated with other language code)\n",
    "    - Support of GUI (libraries available to create desktop application)\n",
    "    - Dynamically typed language (duck typing)\n",
    "    - High level language \n",
    "    \n",
    "    "
   ]
  },
  {
   "cell_type": "markdown",
   "id": "f8597a7a",
   "metadata": {},
   "source": [
    "### psuedo code vs Python code \n",
    "[A comparison to understand feature called \"easy to read\" and \"easy to code]\n",
    "\n",
    "TASK - read a text file and print out non-commented lines\n",
    "\n",
    "Psuedo code - \n",
    "```\n",
    "1. open the file sample.txt\n",
    "2. for each line in file\n",
    "3. if line does not start with #\n",
    "4. print line\n",
    "```\n",
    "\n",
    "Actual code - \n",
    "```python\n",
    "with open(\"sample.txt\", \"r\") as f:\n",
    "    for l in f:\n",
    "        if not l.startswith(\"#\"):\n",
    "            print(l)\n",
    "```"
   ]
  },
  {
   "cell_type": "markdown",
   "id": "33aed1c7",
   "metadata": {},
   "source": [
    "### Operators \n",
    "\n",
    "\tMathematical operators ::  +, -, /, //, %, *\n",
    "\tLogical operators: and, or\n",
    "\tRelational operators: <, <=, >, >=, ==, !=\n",
    "    \n",
    ".......................................................................................\n",
    "    \n",
    "```\n",
    "Operator\tMeaning\n",
    "\n",
    " <\t        Is less than\n",
    " <=\t       Is less than or equal to\n",
    " >\t        Is greater than\n",
    " >=\t       Is greater than or equal to\n",
    " ==\t       Is equal to\n",
    " !=\t       Is not equal to\n",
    "```"
   ]
  },
  {
   "cell_type": "markdown",
   "id": "546d34df",
   "metadata": {},
   "source": [
    "### Basic data types in Python\n",
    "\n",
    "    - int     (example - 100)\n",
    "    - string  (example - \"prashant\")\n",
    "    - float   (example - 12.50)\n",
    "    - boolean (example - True)\n",
    "    \n",
    " "
   ]
  },
  {
   "cell_type": "markdown",
   "id": "490f59f3",
   "metadata": {},
   "source": [
    "### [ TODO ] Exercise \n",
    "\n",
    "1. Use operators on numerical data\n",
    "2. Use operators (+ and *) on string data \n",
    "    - concatenate strings\n",
    "    - print string n times"
   ]
  },
  {
   "cell_type": "markdown",
   "id": "a115f885",
   "metadata": {},
   "source": [
    "* In other languages like c, c++, java etc we have to specify type of variable before using it for a certain data type.\n",
    "\n",
    "* In Python, we don't have to declare variable type before using it. This phenomenon makes python a \"dyanmically typed language\". Also known as \"duck typing\".\n",
    "\n",
    "var a int;\n",
    "a = 10"
   ]
  },
  {
   "cell_type": "code",
   "execution_count": 2,
   "id": "4e47acf9",
   "metadata": {},
   "outputs": [
    {
     "name": "stdout",
     "output_type": "stream",
     "text": [
      "hello world!\n",
      "My name is Prashant\n"
     ]
    }
   ],
   "source": [
    "print(\"hello world!\")\n",
    "print(\"My name is Prashant\")\n",
    "# this is a comment"
   ]
  },
  {
   "cell_type": "markdown",
   "id": "de019df8",
   "metadata": {},
   "source": [
    "### Questions\n",
    "\n",
    "1. If you are writing a code in Javascript, which file extension would you use?\n",
    "\n",
    "        .script\n",
    "        .js\n",
    "        .java\n",
    "        .py\n",
    "\n",
    "\n",
    "2. Which standard extension should you use for Python source code file?\n",
    "\n",
    "        .py\n",
    "        .txt\n",
    "        .doc\n",
    "        empty extension\n",
    "\n",
    "3. Which tool you should use to write code?\n",
    "\n",
    "        plain text editor\n",
    "        word processor\n",
    "        a spreadsheet application\n",
    "        web browser\n",
    "\n",
    "4. Why Python language is considered as an interpreted language?\n",
    "\n",
    "        Write your answer here\n",
    "\n",
    "5. Source code is written in rich text\n",
    "\n",
    "        True\n",
    "        False\n",
    "\n",
    "6. Programming can be defined as converting ideas into ... that computer can understand\n",
    "\n",
    "        instructions\n",
    "        appeals\n",
    "        recommendations\n",
    "\n",
    "7. Why do computer instructions need to be sequential?\n",
    "    \n",
    "        The order in which these instuctions are executed in important\n",
    "        Providing the instructions in sequence makes them exact\n",
    "        A sequence of instructions result in fewer crashes\n",
    "        A sequence of instructions result in fewer bugs\n",
    "\n",
    "\n",
    "8. Why there are many programming languages?\n",
    "\n",
    "        To support different text entry formats\n",
    "        To address many different computing needs\n",
    "        To directly write machine language \n",
    "        To offer a syntax closer to human language.\n"
   ]
  },
  {
   "cell_type": "markdown",
   "id": "ef8fa710",
   "metadata": {},
   "source": [
    "### Terminalogy\n",
    "\n",
    "    - Syntax :: Rules of programming language\n",
    "                Keywords + built in functions + operators + data types and ways to use all these things in combination.\n",
    "                \n",
    "    - Keyword :: some words that are reserved by language\n",
    "    - built in functoions :: functions that are readily available with the language\n",
    "    - opetarors ::\n",
    "    \n",
    "    - scripting :: code to be executed per need basis. Also one time basis.\n",
    "    - devops :: role for maintaining applications up and running in a desired state.\n",
    "    - system administrator :: \n",
    "    - web application :: front end (html, css, javascript) + back end (python, java, nodejs)\n",
    "    - front end developer\n",
    "    - back end developer - target job\n",
    "    - web api :: web application without front end\n",
    "    - framework :: guideline to build application (OR guideline to write code).\n",
    "    - library :: distributable code\n",
    "    \n",
    "    - data scientist :: \n",
    "    - data engineering :: \n",
    "    - ETL :: Extract, Transform and Load\n",
    "    - pseudo code :: steps written in developers language (natural lang)\n",
    "    - GUI :: Graphical user interface\n",
    "    \n",
    "         "
   ]
  }
 ],
 "metadata": {
  "kernelspec": {
   "display_name": "Python 3 (ipykernel)",
   "language": "python",
   "name": "python3"
  },
  "language_info": {
   "codemirror_mode": {
    "name": "ipython",
    "version": 3
   },
   "file_extension": ".py",
   "mimetype": "text/x-python",
   "name": "python",
   "nbconvert_exporter": "python",
   "pygments_lexer": "ipython3",
   "version": "3.10.0"
  }
 },
 "nbformat": 4,
 "nbformat_minor": 5
}
