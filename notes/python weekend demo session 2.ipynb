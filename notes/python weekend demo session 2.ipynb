{
 "cells": [
  {
   "cell_type": "markdown",
   "id": "04246245",
   "metadata": {},
   "source": [
    "### Terminology\n",
    "\n",
    "- variable :: reference to a object / label\n",
    "\n",
    "- syntax :: rules of programming language\n",
    "- syntax :: keywords, in-built functions, control statements, operators\n",
    "          and ways of using these things\n",
    "          \n",
    "- input to the function :: parameter / arguments\n",
    "- keywords :: words reserved by programming language\n",
    "- comment :: comment does not impact on code. It is just information\n",
    "- functions :: user-defined function, in-built functions\n",
    "             :: coding blocks that can be reused\n",
    "             :: function takes some input and returns some output\n",
    "\n",
    "```\n",
    "help(\"keywords\")\n",
    "```\n",
    "          \n",
    "          "
   ]
  },
  {
   "cell_type": "markdown",
   "id": "25009487",
   "metadata": {},
   "source": [
    "### in-built functions we have learned so far\n",
    "\n",
    "- print() :: \n",
    "- help() :: help(\"keywords\")\n",
    "- type() :: returns type of a object\n",
    "- input()\n",
    "- len()"
   ]
  },
  {
   "cell_type": "markdown",
   "id": "b72696a2",
   "metadata": {},
   "source": [
    "### What are built in functions"
   ]
  },
  {
   "cell_type": "code",
   "execution_count": 21,
   "id": "e75cd060",
   "metadata": {},
   "outputs": [
    {
     "ename": "SyntaxError",
     "evalue": "invalid syntax (1421326713.py, line 1)",
     "output_type": "error",
     "traceback": [
      "\u001b[0;36m  Cell \u001b[0;32mIn [21], line 1\u001b[0;36m\u001b[0m\n\u001b[0;31m    Built-in Functions\u001b[0m\n\u001b[0m          ^\u001b[0m\n\u001b[0;31mSyntaxError\u001b[0m\u001b[0;31m:\u001b[0m invalid syntax\n"
     ]
    }
   ],
   "source": []
  },
  {
   "cell_type": "markdown",
   "id": "ee60f11f",
   "metadata": {},
   "source": [
    "### Survival functions\n",
    "\n",
    "- type()\n",
    "- help()\n",
    "- dir()"
   ]
  },
  {
   "cell_type": "markdown",
   "id": "49c2f05f",
   "metadata": {},
   "source": [
    "#### Variable\n",
    "\n",
    "- Variable cannot be `keywords`\n",
    "- Variable should only contain letters, numbers and underscores.\n",
    "- Spaces are not allowed\n",
    "- Variable names are case sensitive\n",
    "- Variable name cannot start with number\n"
   ]
  },
  {
   "cell_type": "markdown",
   "id": "b89df054",
   "metadata": {},
   "source": [
    "##### All the keywords available in Python programming languagge"
   ]
  },
  {
   "cell_type": "code",
   "execution_count": 19,
   "id": "7bdef0a8",
   "metadata": {},
   "outputs": [
    {
     "name": "stdout",
     "output_type": "stream",
     "text": [
      "\n",
      "Here is a list of the Python keywords.  Enter any keyword to get more help.\n",
      "\n",
      "False               class               from                or\n",
      "None                continue            global              pass\n",
      "True                def                 if                  raise\n",
      "and                 del                 import              return\n",
      "as                  elif                in                  try\n",
      "assert              else                is                  while\n",
      "async               except              lambda              with\n",
      "await               finally             nonlocal            yield\n",
      "break               for                 not                 \n",
      "\n"
     ]
    }
   ],
   "source": [
    "help(\"keywords\")"
   ]
  },
  {
   "cell_type": "code",
   "execution_count": 3,
   "id": "f39f4001",
   "metadata": {},
   "outputs": [],
   "source": [
    "prashant = 100"
   ]
  },
  {
   "cell_type": "code",
   "execution_count": 4,
   "id": "d2a7ffa0",
   "metadata": {},
   "outputs": [
    {
     "data": {
      "text/plain": [
       "int"
      ]
     },
     "execution_count": 4,
     "metadata": {},
     "output_type": "execute_result"
    }
   ],
   "source": [
    "type(prashant)   # call / invoke\n",
    "            # variable `foo` contains a object of type `int`"
   ]
  },
  {
   "cell_type": "markdown",
   "id": "c0e0dc99",
   "metadata": {},
   "source": [
    "Basic data types"
   ]
  },
  {
   "cell_type": "markdown",
   "id": "9dd8eb84",
   "metadata": {},
   "source": [
    " - int      100    int()\n",
    " - float    20.60   float()\n",
    " - string   \"prashant\"   str()\n",
    " - bool     (True and False)  bool()\n",
    " "
   ]
  },
  {
   "cell_type": "code",
   "execution_count": 15,
   "id": "2a047789",
   "metadata": {},
   "outputs": [],
   "source": [
    "example1 = \"Prashant\""
   ]
  },
  {
   "cell_type": "code",
   "execution_count": 16,
   "id": "9cbc0721",
   "metadata": {},
   "outputs": [
    {
     "name": "stdout",
     "output_type": "stream",
     "text": [
      "Prashant\n"
     ]
    }
   ],
   "source": [
    "print(example1)"
   ]
  },
  {
   "cell_type": "markdown",
   "id": "1afe34e9",
   "metadata": {},
   "source": [
    "#### How do we define string?"
   ]
  },
  {
   "cell_type": "code",
   "execution_count": null,
   "id": "e4a5482d",
   "metadata": {},
   "outputs": [],
   "source": [
    "example1 = 'prashant'     # single line string\n",
    "example2 = \"prashant\"     # single line string\n",
    "\n",
    "example3 = '''prashant'''   # multi-line string\n",
    "example4 = \"\"\"prashant\"\"\"  # multi-line string"
   ]
  },
  {
   "cell_type": "code",
   "execution_count": 17,
   "id": "e169cfaa",
   "metadata": {},
   "outputs": [],
   "source": [
    "empty_string = \"\""
   ]
  },
  {
   "cell_type": "code",
   "execution_count": 20,
   "id": "b6b470db",
   "metadata": {},
   "outputs": [
    {
     "data": {
      "text/plain": [
       "str"
      ]
     },
     "execution_count": 20,
     "metadata": {},
     "output_type": "execute_result"
    }
   ],
   "source": [
    "type(empty_string)"
   ]
  },
  {
   "cell_type": "markdown",
   "id": "755c784b",
   "metadata": {},
   "source": [
    "### commenting"
   ]
  },
  {
   "cell_type": "code",
   "execution_count": 26,
   "id": "d36eefba",
   "metadata": {},
   "outputs": [],
   "source": [
    "# this is a comment"
   ]
  },
  {
   "cell_type": "markdown",
   "id": "6c8ca6c7",
   "metadata": {},
   "source": [
    "### type()"
   ]
  },
  {
   "cell_type": "code",
   "execution_count": 22,
   "id": "48d44c7a",
   "metadata": {},
   "outputs": [
    {
     "data": {
      "text/plain": [
       "int"
      ]
     },
     "execution_count": 22,
     "metadata": {},
     "output_type": "execute_result"
    }
   ],
   "source": [
    "foo = 100\n",
    "type(foo)  # `foo` is an object of type `int`"
   ]
  },
  {
   "cell_type": "code",
   "execution_count": 27,
   "id": "872eb659",
   "metadata": {},
   "outputs": [
    {
     "data": {
      "text/plain": [
       "str"
      ]
     },
     "execution_count": 27,
     "metadata": {},
     "output_type": "execute_result"
    }
   ],
   "source": [
    "bar = \"2000\"\n",
    "type(bar) # `bar` is an object of type `str`"
   ]
  },
  {
   "cell_type": "code",
   "execution_count": 40,
   "id": "baeb149d",
   "metadata": {},
   "outputs": [
    {
     "data": {
      "text/plain": [
       "float"
      ]
     },
     "execution_count": 40,
     "metadata": {},
     "output_type": "execute_result"
    }
   ],
   "source": [
    "example_1 = 10.50  \n",
    "type(example_1)  # `example_1` is an object of type `float`"
   ]
  },
  {
   "cell_type": "code",
   "execution_count": 41,
   "id": "2d568353",
   "metadata": {},
   "outputs": [
    {
     "data": {
      "text/plain": [
       "bool"
      ]
     },
     "execution_count": 41,
     "metadata": {},
     "output_type": "execute_result"
    }
   ],
   "source": [
    "example_2 = True\n",
    "type(example_2)"
   ]
  },
  {
   "cell_type": "code",
   "execution_count": 42,
   "id": "ff932d9d",
   "metadata": {},
   "outputs": [
    {
     "name": "stdout",
     "output_type": "stream",
     "text": [
      "prashant\n"
     ]
    }
   ],
   "source": [
    "random = \"prashant\"\n",
    "print(random)"
   ]
  },
  {
   "cell_type": "markdown",
   "id": "cc176dbd",
   "metadata": {},
   "source": [
    "### type casting \n",
    "Changing type of one object into another type"
   ]
  },
  {
   "cell_type": "markdown",
   "id": "47ace65f",
   "metadata": {},
   "source": [
    "-  int()\n",
    "-  float()\n",
    "-  str()\n",
    "-  bool() "
   ]
  },
  {
   "cell_type": "code",
   "execution_count": 47,
   "id": "3abe8cc8",
   "metadata": {},
   "outputs": [],
   "source": [
    "example1 = 100"
   ]
  },
  {
   "cell_type": "code",
   "execution_count": 46,
   "id": "dde05ad7",
   "metadata": {},
   "outputs": [
    {
     "data": {
      "text/plain": [
       "str"
      ]
     },
     "execution_count": 46,
     "metadata": {},
     "output_type": "execute_result"
    }
   ],
   "source": [
    "for_proof = str(example1)\n",
    "type(for_proof)"
   ]
  },
  {
   "cell_type": "code",
   "execution_count": 51,
   "id": "662b90a9",
   "metadata": {},
   "outputs": [
    {
     "data": {
      "text/plain": [
       "int"
      ]
     },
     "execution_count": 51,
     "metadata": {},
     "output_type": "execute_result"
    }
   ],
   "source": [
    "example1 = 100\n",
    "type(example1)  # `example1` is object of type `int`\n"
   ]
  },
  {
   "cell_type": "code",
   "execution_count": 52,
   "id": "a90210a6",
   "metadata": {},
   "outputs": [
    {
     "data": {
      "text/plain": [
       "float"
      ]
     },
     "execution_count": 52,
     "metadata": {},
     "output_type": "execute_result"
    }
   ],
   "source": [
    "check_ = float(example1)   # call / invoke\n",
    "type(check_)"
   ]
  },
  {
   "cell_type": "code",
   "execution_count": 54,
   "id": "b343d44c",
   "metadata": {},
   "outputs": [
    {
     "data": {
      "text/plain": [
       "str"
      ]
     },
     "execution_count": 54,
     "metadata": {},
     "output_type": "execute_result"
    }
   ],
   "source": [
    "another_example = \"100\"\n",
    "type(another_example)"
   ]
  },
  {
   "cell_type": "code",
   "execution_count": 55,
   "id": "f9502178",
   "metadata": {},
   "outputs": [
    {
     "data": {
      "text/plain": [
       "100"
      ]
     },
     "execution_count": 55,
     "metadata": {},
     "output_type": "execute_result"
    }
   ],
   "source": [
    "int(another_example)"
   ]
  },
  {
   "cell_type": "code",
   "execution_count": 58,
   "id": "0afcf0a7",
   "metadata": {},
   "outputs": [],
   "source": [
    "invalid_example = \"100 prashant\""
   ]
  },
  {
   "cell_type": "code",
   "execution_count": 69,
   "id": "5b3a593b",
   "metadata": {},
   "outputs": [
    {
     "data": {
      "text/plain": [
       "False"
      ]
     },
     "execution_count": 69,
     "metadata": {},
     "output_type": "execute_result"
    }
   ],
   "source": [
    "foo = \"\"\n",
    "bool(foo)"
   ]
  },
  {
   "cell_type": "markdown",
   "id": "a0967c22",
   "metadata": {},
   "source": [
    "- Non-empty string is treated as True, otherwise False\n",
    "- Non-zero integer is treated as True, otherwise False"
   ]
  },
  {
   "cell_type": "markdown",
   "id": "360c0b32",
   "metadata": {},
   "source": [
    "### Mathematical operators"
   ]
  },
  {
   "cell_type": "code",
   "execution_count": null,
   "id": "6b8382d1",
   "metadata": {},
   "outputs": [],
   "source": [
    "Mathematical operators :: +, -, /, *, % (modulo), // (truncation division aka floor division)\n",
    "        \n",
    "- result always in boolean (True or False)\n",
    "\n",
    "\n",
    "Relational operators :: <, <=, >, >=, ==, !=\n",
    "Logical operators :: or, and, not\n",
    "        \n",
    "Assignment operator ::  ="
   ]
  },
  {
   "cell_type": "code",
   "execution_count": 93,
   "id": "040472e7",
   "metadata": {},
   "outputs": [
    {
     "data": {
      "text/plain": [
       "False"
      ]
     },
     "execution_count": 93,
     "metadata": {},
     "output_type": "execute_result"
    }
   ],
   "source": [
    "10 > 30"
   ]
  },
  {
   "cell_type": "code",
   "execution_count": 95,
   "id": "64149cbc",
   "metadata": {},
   "outputs": [
    {
     "data": {
      "text/plain": [
       "True"
      ]
     },
     "execution_count": 95,
     "metadata": {},
     "output_type": "execute_result"
    }
   ],
   "source": [
    "not False"
   ]
  },
  {
   "cell_type": "code",
   "execution_count": 78,
   "id": "13284e7d",
   "metadata": {},
   "outputs": [
    {
     "data": {
      "text/plain": [
       "float"
      ]
     },
     "execution_count": 78,
     "metadata": {},
     "output_type": "execute_result"
    }
   ],
   "source": [
    "result_using_div = 10 / 10\n",
    "type(result_using_div)"
   ]
  },
  {
   "cell_type": "code",
   "execution_count": 79,
   "id": "f8b6d6d1",
   "metadata": {},
   "outputs": [
    {
     "data": {
      "text/plain": [
       "1.0"
      ]
     },
     "execution_count": 79,
     "metadata": {},
     "output_type": "execute_result"
    }
   ],
   "source": [
    "result_using_div"
   ]
  },
  {
   "cell_type": "code",
   "execution_count": 80,
   "id": "87be217f",
   "metadata": {},
   "outputs": [],
   "source": [
    "result_using_trunc = 10 // 10"
   ]
  },
  {
   "cell_type": "code",
   "execution_count": 81,
   "id": "58949fbb",
   "metadata": {},
   "outputs": [
    {
     "data": {
      "text/plain": [
       "1"
      ]
     },
     "execution_count": 81,
     "metadata": {},
     "output_type": "execute_result"
    }
   ],
   "source": [
    "result_using_trunc"
   ]
  },
  {
   "cell_type": "code",
   "execution_count": 83,
   "id": "a1f37285",
   "metadata": {},
   "outputs": [
    {
     "data": {
      "text/plain": [
       "int"
      ]
     },
     "execution_count": 83,
     "metadata": {},
     "output_type": "execute_result"
    }
   ],
   "source": [
    "type(result_using_trunc)  # `result_using_trunc` is object of type `int`"
   ]
  },
  {
   "cell_type": "code",
   "execution_count": 87,
   "id": "283d6e36",
   "metadata": {},
   "outputs": [
    {
     "data": {
      "text/plain": [
       "5"
      ]
     },
     "execution_count": 87,
     "metadata": {},
     "output_type": "execute_result"
    }
   ],
   "source": [
    "15 % 10"
   ]
  },
  {
   "cell_type": "markdown",
   "id": "1437d770",
   "metadata": {},
   "source": [
    "mathematical operators on string data type\n",
    "\n",
    "    +\n",
    "    *"
   ]
  },
  {
   "cell_type": "code",
   "execution_count": 105,
   "id": "a4df7805",
   "metadata": {},
   "outputs": [],
   "source": [
    "foo = \"p\" + \"r\" + \"a\" + \"s\" + \"h\" + \"a\" + \"n\" + \"t\" + \" \""
   ]
  },
  {
   "cell_type": "code",
   "execution_count": 106,
   "id": "18a3a493",
   "metadata": {},
   "outputs": [
    {
     "data": {
      "text/plain": [
       "'prashant '"
      ]
     },
     "execution_count": 106,
     "metadata": {},
     "output_type": "execute_result"
    }
   ],
   "source": [
    "foo"
   ]
  },
  {
   "cell_type": "code",
   "execution_count": 110,
   "id": "ac1d4784",
   "metadata": {},
   "outputs": [],
   "source": [
    "statement = \"India\" + \" \" + \"is \" + \"great\""
   ]
  },
  {
   "cell_type": "code",
   "execution_count": 109,
   "id": "f066f3c3",
   "metadata": {},
   "outputs": [
    {
     "data": {
      "text/plain": [
       "'India isgreat'"
      ]
     },
     "execution_count": 109,
     "metadata": {},
     "output_type": "execute_result"
    }
   ],
   "source": [
    "statement"
   ]
  },
  {
   "cell_type": "code",
   "execution_count": 107,
   "id": "a9bbdab8",
   "metadata": {},
   "outputs": [
    {
     "data": {
      "text/plain": [
       "'prashant prashant prashant prashant prashant prashant prashant prashant prashant prashant '"
      ]
     },
     "execution_count": 107,
     "metadata": {},
     "output_type": "execute_result"
    }
   ],
   "source": [
    "foo * 10"
   ]
  },
  {
   "cell_type": "code",
   "execution_count": null,
   "id": "3f7d0fc6",
   "metadata": {},
   "outputs": [],
   "source": [
    "### Questions\n",
    "\n",
    "i = 10 "
   ]
  },
  {
   "cell_type": "markdown",
   "id": "1dbccfd7",
   "metadata": {},
   "source": [
    "### String operations"
   ]
  },
  {
   "cell_type": "markdown",
   "id": "8837b22b",
   "metadata": {},
   "source": [
    "\n",
    "- type()\n",
    "- help() :: help(function_name)\n",
    "- dir()  :: returns attributes of an object\n",
    "\n",
    "- attribute :: functions OR properties\n"
   ]
  },
  {
   "cell_type": "markdown",
   "id": "74a14ab0",
   "metadata": {},
   "source": [
    "- attributes of string object"
   ]
  },
  {
   "cell_type": "markdown",
   "id": "e5d180f2",
   "metadata": {},
   "source": [
    "'capitalize',\n",
    " 'casefold',\n",
    " 'center',\n",
    " 'count',\n",
    " 'encode',\n",
    " 'endswith',\n",
    " 'expandtabs',\n",
    " 'find',\n",
    " 'format',\n",
    " 'format_map',\n",
    " 'index',\n",
    " 'isalnum',\n",
    " 'isalpha',\n",
    " 'isascii',\n",
    " 'isdecimal',\n",
    " 'isdigit',\n",
    " 'isidentifier',\n",
    " 'islower',\n",
    " 'isnumeric',\n",
    " 'isprintable',\n",
    " 'isspace',\n",
    " 'istitle',\n",
    " 'isupper',\n",
    " 'join',\n",
    " 'ljust',\n",
    " 'lower',\n",
    " 'lstrip',\n",
    " 'maketrans',\n",
    " 'partition',\n",
    " 'removeprefix',\n",
    " 'removesuffix',\n",
    " 'replace',\n",
    " 'rfind',\n",
    " 'rindex',\n",
    " 'rjust',\n",
    " 'rpartition',\n",
    " 'rsplit',\n",
    " 'rstrip',\n",
    " 'split',\n",
    " 'splitlines',\n",
    " 'startswith',\n",
    " 'strip',\n",
    " 'swapcase',\n",
    " 'title',\n",
    " 'translate',\n",
    " 'upper',\n",
    " 'zfill'"
   ]
  },
  {
   "cell_type": "code",
   "execution_count": 117,
   "id": "4cbf3b4d",
   "metadata": {},
   "outputs": [],
   "source": [
    "country = \"usa\""
   ]
  },
  {
   "cell_type": "code",
   "execution_count": 121,
   "id": "1b4868bc",
   "metadata": {},
   "outputs": [
    {
     "data": {
      "text/plain": [
       "'USA'"
      ]
     },
     "execution_count": 121,
     "metadata": {},
     "output_type": "execute_result"
    }
   ],
   "source": [
    "country.upper()  ## call / invoke"
   ]
  },
  {
   "cell_type": "code",
   "execution_count": 122,
   "id": "ca3907b1",
   "metadata": {},
   "outputs": [
    {
     "name": "stdout",
     "output_type": "stream",
     "text": [
      "Help on built-in function upper:\n",
      "\n",
      "upper() method of builtins.str instance\n",
      "    Return a copy of the string converted to uppercase.\n",
      "\n"
     ]
    }
   ],
   "source": [
    "foo = \"\"\n",
    "help(foo.upper)"
   ]
  },
  {
   "cell_type": "code",
   "execution_count": 125,
   "id": "6ba1815e",
   "metadata": {},
   "outputs": [
    {
     "data": {
      "text/plain": [
       "'usa'"
      ]
     },
     "execution_count": 125,
     "metadata": {},
     "output_type": "execute_result"
    }
   ],
   "source": [
    "foo = \"USA\"\n",
    "foo.lower()"
   ]
  },
  {
   "cell_type": "markdown",
   "id": "5b084d02",
   "metadata": {},
   "source": [
    " - endswith\n",
    " - startswith\n",
    " - upper\n",
    " - lower\n",
    " - casefold\n",
    " - count\n",
    " - index\n",
    " - find\n",
    " - format\n",
    " - islower\n",
    " - isupper\n",
    " - split\n",
    " - join\n",
    " - lstrip\n",
    " - rstrip\n",
    " - replace"
   ]
  },
  {
   "cell_type": "code",
   "execution_count": 140,
   "id": "2f39f684",
   "metadata": {},
   "outputs": [
    {
     "data": {
      "text/plain": [
       "str"
      ]
     },
     "execution_count": 140,
     "metadata": {},
     "output_type": "execute_result"
    }
   ],
   "source": [
    "country = \"India\"\n",
    "type(country)  # country is object of type str"
   ]
  },
  {
   "cell_type": "code",
   "execution_count": 145,
   "id": "a879de34",
   "metadata": {},
   "outputs": [
    {
     "data": {
      "text/plain": [
       "True"
      ]
     },
     "execution_count": 145,
     "metadata": {},
     "output_type": "execute_result"
    }
   ],
   "source": [
    "country.endswith(\"dia\")"
   ]
  },
  {
   "cell_type": "code",
   "execution_count": 147,
   "id": "84350506",
   "metadata": {},
   "outputs": [
    {
     "data": {
      "text/plain": [
       "False"
      ]
     },
     "execution_count": 147,
     "metadata": {},
     "output_type": "execute_result"
    }
   ],
   "source": [
    "country.startswith(\"xxx\")"
   ]
  },
  {
   "cell_type": "code",
   "execution_count": 155,
   "id": "f9cd5a8a",
   "metadata": {},
   "outputs": [],
   "source": [
    "name = \"prashant\""
   ]
  },
  {
   "cell_type": "code",
   "execution_count": 158,
   "id": "1e6a4853",
   "metadata": {},
   "outputs": [
    {
     "data": {
      "text/plain": [
       "1"
      ]
     },
     "execution_count": 158,
     "metadata": {},
     "output_type": "execute_result"
    }
   ],
   "source": [
    "name.count(\"shant\")"
   ]
  },
  {
   "cell_type": "markdown",
   "id": "16074eb4",
   "metadata": {},
   "source": [
    "### Concept of indexing \n",
    "String :: collection of characters"
   ]
  },
  {
   "cell_type": "code",
   "execution_count": null,
   "id": "68c134c8",
   "metadata": {},
   "outputs": [],
   "source": [
    "\n",
    "# I   N    D   I   A\n",
    "# 0   1    2   3    4   left to right starts from 0. (positive indexing)\n",
    "# -5          -2    -1  right to left and starts from -1 (negative indexing)"
   ]
  },
  {
   "cell_type": "code",
   "execution_count": 160,
   "id": "8fa207a9",
   "metadata": {},
   "outputs": [],
   "source": [
    "name = \"prashant\""
   ]
  },
  {
   "cell_type": "code",
   "execution_count": 165,
   "id": "20036956",
   "metadata": {},
   "outputs": [
    {
     "data": {
      "text/plain": [
       "'s'"
      ]
     },
     "execution_count": 165,
     "metadata": {},
     "output_type": "execute_result"
    }
   ],
   "source": [
    "name[-5]  # accessing elemts from a collection using indexing is possible using []"
   ]
  },
  {
   "cell_type": "code",
   "execution_count": 167,
   "id": "2dc1305b",
   "metadata": {},
   "outputs": [
    {
     "data": {
      "text/plain": [
       "3"
      ]
     },
     "execution_count": 167,
     "metadata": {},
     "output_type": "execute_result"
    }
   ],
   "source": [
    "name.index(\"s\")  # returns positive index"
   ]
  },
  {
   "cell_type": "code",
   "execution_count": 168,
   "id": "e34b5bf7",
   "metadata": {},
   "outputs": [],
   "source": [
    "statement1 = \"Python is a programming language and Python is very popular\""
   ]
  },
  {
   "cell_type": "code",
   "execution_count": 171,
   "id": "00ec80fd",
   "metadata": {},
   "outputs": [
    {
     "data": {
      "text/plain": [
       "'Java is a programming language and Java is very popular'"
      ]
     },
     "execution_count": 171,
     "metadata": {},
     "output_type": "execute_result"
    }
   ],
   "source": [
    "statement1.replace(\"Python\", \"Java\")"
   ]
  },
  {
   "cell_type": "code",
   "execution_count": 175,
   "id": "60894daa",
   "metadata": {},
   "outputs": [],
   "source": [
    "language = \"python\""
   ]
  },
  {
   "cell_type": "code",
   "execution_count": 176,
   "id": "8187d7ae",
   "metadata": {},
   "outputs": [
    {
     "data": {
      "text/plain": [
       "True"
      ]
     },
     "execution_count": 176,
     "metadata": {},
     "output_type": "execute_result"
    }
   ],
   "source": [
    "language.islower()"
   ]
  },
  {
   "cell_type": "markdown",
   "id": "2b92341e",
   "metadata": {},
   "source": [
    "- split()\n",
    "- join()\n"
   ]
  },
  {
   "cell_type": "code",
   "execution_count": 177,
   "id": "4a34fef9",
   "metadata": {},
   "outputs": [
    {
     "data": {
      "text/plain": [
       "['INDIA']"
      ]
     },
     "execution_count": 177,
     "metadata": {},
     "output_type": "execute_result"
    }
   ],
   "source": [
    "random = \"INDIA\"\n",
    "random.split()  \n",
    "\n",
    "# split function always returns a list\n",
    "# split function takes 1 input and that input is called as delimiter\n",
    "# when you don't pass input to split function, default delimter is \" \" space"
   ]
  },
  {
   "cell_type": "code",
   "execution_count": 180,
   "id": "d2937eda",
   "metadata": {},
   "outputs": [
    {
     "data": {
      "text/plain": [
       "['Python',\n",
       " 'is',\n",
       " 'a',\n",
       " 'programming',\n",
       " 'language',\n",
       " 'and',\n",
       " 'Python',\n",
       " 'is',\n",
       " 'very',\n",
       " 'popular']"
      ]
     },
     "execution_count": 180,
     "metadata": {},
     "output_type": "execute_result"
    }
   ],
   "source": [
    "statement1 = \"Python is a programming language and Python is very popular\"\n",
    "result = statement1.split()\n",
    "result"
   ]
  },
  {
   "cell_type": "code",
   "execution_count": 181,
   "id": "c9d84c14",
   "metadata": {},
   "outputs": [
    {
     "data": {
      "text/plain": [
       "'Python is a programming language and Python is very popular'"
      ]
     },
     "execution_count": 181,
     "metadata": {},
     "output_type": "execute_result"
    }
   ],
   "source": [
    "\" \".join(result)"
   ]
  },
  {
   "cell_type": "code",
   "execution_count": 186,
   "id": "70ecbc3d",
   "metadata": {},
   "outputs": [],
   "source": [
    "country = \"pakistan\""
   ]
  },
  {
   "cell_type": "code",
   "execution_count": 188,
   "id": "35f8af19",
   "metadata": {},
   "outputs": [],
   "source": [
    "country = country.replace(\"akis\", \"xxxxxxxxxx\")"
   ]
  },
  {
   "cell_type": "code",
   "execution_count": 189,
   "id": "a5e5f223",
   "metadata": {},
   "outputs": [
    {
     "data": {
      "text/plain": [
       "'pxxxxxxxxxxtan'"
      ]
     },
     "execution_count": 189,
     "metadata": {},
     "output_type": "execute_result"
    }
   ],
   "source": [
    "country"
   ]
  },
  {
   "cell_type": "markdown",
   "id": "95ef33bf",
   "metadata": {},
   "source": [
    "### `input()`\n",
    "\n",
    "- always returns a string\n"
   ]
  },
  {
   "cell_type": "code",
   "execution_count": 197,
   "id": "628bdbac",
   "metadata": {},
   "outputs": [
    {
     "name": "stdout",
     "output_type": "stream",
     "text": [
      "please tell me your name : Rahulk\n",
      "Good morning,\n",
      "Rahulk\n"
     ]
    }
   ],
   "source": [
    "name  = input(\"please tell me your name : \")\n",
    "msg = f\"Good morning,\\n{name}\"\n",
    "print(msg)"
   ]
  },
  {
   "cell_type": "code",
   "execution_count": null,
   "id": "d1ace98b",
   "metadata": {},
   "outputs": [],
   "source": []
  },
  {
   "cell_type": "markdown",
   "id": "39616cc0",
   "metadata": {},
   "source": [
    "#### String formatting"
   ]
  },
  {
   "cell_type": "code",
   "execution_count": 202,
   "id": "21fd8532",
   "metadata": {},
   "outputs": [
    {
     "name": "stdout",
     "output_type": "stream",
     "text": [
      "Please tell me feature? : python\n",
      "which language?: high level\n",
      "\n",
      "\n",
      "\n",
      "high level is python\n"
     ]
    }
   ],
   "source": [
    "feature = input(\"Please tell me feature? : \")\n",
    "lang = input(\"which language?: \")\n",
    "\n",
    "msg = f\"\\n\\n\\n{lang} is {feature}\"   # f-string\n",
    "print(msg)"
   ]
  },
  {
   "cell_type": "code",
   "execution_count": 200,
   "id": "c4a57638",
   "metadata": {},
   "outputs": [
    {
     "data": {
      "text/plain": [
       "'\\n\\n\\nPython is interpreted'"
      ]
     },
     "execution_count": 200,
     "metadata": {},
     "output_type": "execute_result"
    }
   ],
   "source": [
    "msg"
   ]
  },
  {
   "cell_type": "code",
   "execution_count": 201,
   "id": "e5aa53ca",
   "metadata": {},
   "outputs": [
    {
     "data": {
      "text/plain": [
       "24"
      ]
     },
     "execution_count": 201,
     "metadata": {},
     "output_type": "execute_result"
    }
   ],
   "source": [
    "len(msg)"
   ]
  },
  {
   "cell_type": "code",
   "execution_count": 203,
   "id": "545fbe3c",
   "metadata": {},
   "outputs": [],
   "source": [
    "foo = \"prashant\""
   ]
  },
  {
   "cell_type": "code",
   "execution_count": 204,
   "id": "2af58300",
   "metadata": {},
   "outputs": [
    {
     "data": {
      "text/plain": [
       "2"
      ]
     },
     "execution_count": 204,
     "metadata": {},
     "output_type": "execute_result"
    }
   ],
   "source": [
    "foo.index(\"a\")"
   ]
  },
  {
   "cell_type": "code",
   "execution_count": null,
   "id": "4be82d19",
   "metadata": {},
   "outputs": [],
   "source": [
    "### slicing \n",
    "\n",
    "# [start: end : step]\n",
    "# slicing is inclusive on start \n",
    "# slicing is exclusive to end \n"
   ]
  },
  {
   "cell_type": "code",
   "execution_count": 206,
   "id": "fc069bad",
   "metadata": {},
   "outputs": [
    {
     "data": {
      "text/plain": [
       "'prashant'"
      ]
     },
     "execution_count": 206,
     "metadata": {},
     "output_type": "execute_result"
    }
   ],
   "source": [
    "foo"
   ]
  },
  {
   "cell_type": "code",
   "execution_count": 208,
   "id": "b7c362be",
   "metadata": {},
   "outputs": [
    {
     "data": {
      "text/plain": [
       "'shant'"
      ]
     },
     "execution_count": 208,
     "metadata": {},
     "output_type": "execute_result"
    }
   ],
   "source": [
    "foo[3:]"
   ]
  },
  {
   "cell_type": "code",
   "execution_count": 209,
   "id": "5e8f4b9f",
   "metadata": {},
   "outputs": [],
   "source": [
    "start = foo.index(\"a\") + 1\n",
    "\n",
    "result = foo[start:]"
   ]
  },
  {
   "cell_type": "code",
   "execution_count": 210,
   "id": "7b02cabf",
   "metadata": {},
   "outputs": [
    {
     "data": {
      "text/plain": [
       "'shant'"
      ]
     },
     "execution_count": 210,
     "metadata": {},
     "output_type": "execute_result"
    }
   ],
   "source": [
    "result"
   ]
  },
  {
   "cell_type": "code",
   "execution_count": 211,
   "id": "643c805c",
   "metadata": {},
   "outputs": [
    {
     "data": {
      "text/plain": [
       "2"
      ]
     },
     "execution_count": 211,
     "metadata": {},
     "output_type": "execute_result"
    }
   ],
   "source": [
    "result.index(\"a\")"
   ]
  }
 ],
 "metadata": {
  "kernelspec": {
   "display_name": "Python 3 (ipykernel)",
   "language": "python",
   "name": "python3"
  },
  "language_info": {
   "codemirror_mode": {
    "name": "ipython",
    "version": 3
   },
   "file_extension": ".py",
   "mimetype": "text/x-python",
   "name": "python",
   "nbconvert_exporter": "python",
   "pygments_lexer": "ipython3",
   "version": "3.10.0"
  }
 },
 "nbformat": 4,
 "nbformat_minor": 5
}
